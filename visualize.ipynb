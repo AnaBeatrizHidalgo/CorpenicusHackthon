{
 "cells": [
  {
   "cell_type": "markdown",
   "metadata": {},
   "source": [
    "# Visualização Espacial para o Protótipo NAIÁ\n",
    "\n",
    "Este notebook cria mapas espaciais para visualizar métricas climáticas e de vegetação por setor censitário em Barão Geraldo, Campinas (SP), no contexto do Hackathon CopernicusLAC Panamá 2025 (Dia 1, 23:39, 29/07/2025, -03). O objetivo é:\n",
    "1. Carregar os dados mesclados (`climate_metrics.csv`) e a geometria dos setores (`area_prova_barao.geojson`).\n",
    "2. Gerar mapas de precipitação média, temperatura média e NDVI médio por setor.\n",
    "3. Salvar os mapas como imagens PNG.\n",
    "\n",
    "## Configuração\n",
    "- **Ambiente**: `naia-env` (Python 3.12.7).\n",
    "- **Repositório**: `/home/lorhan/git/CorpenicusHackthon/`.\n",
    "- **Entradas**:\n",
    "  - `data/area_prova_barao.geojson`: Geometria dos setores censitários.\n",
    "  - `data/processed/climate_metrics.csv`: Métricas mescladas (NDVI, precipitação, temperatura).\n",
    "- **Saídas**:\n",
    "  - `data/processed/precipitation_map.png`: Mapa de precipitação média.\n",
    "  - `data/processed/temperature_map.png`: Mapa de temperatura média.\n",
    "  - `data/processed/ndvi_map.png`: Mapa de NDVI médio.\n",
    "\n",
    "## Pré-requisitos\n",
    "1. Ative o ambiente: `source naia-env/bin/activate`.\n",
    "2. Instale dependências:\n",
    "   ```bash\n",
    "   pip install geopandas matplotlib numpy pandas contextily\n",
    "   pip freeze > requirements.txt\n",
    "   ```\n",
    "3. Execute `climate.ipynb` para gerar `data/processed/climate_metrics.csv`.\n",
    "4. Execute as células sequencialmente."
   ]
  },
  {
   "cell_type": "code",
   "execution_count": null,
   "metadata": {},
   "outputs": [],
   "source": [
    "# Importações\n",
    "import os\n",
    "import geopandas as gpd\n",
    "import pandas as pd\n",
    "import numpy as np\n",
    "import matplotlib.pyplot as plt\n",
    "import contextily as ctx\n",
    "\n",
    "# Configurar diretórios\n",
    "os.makedirs('data/processed', exist_ok=True)\n",
    "print('✓ Diretório data/processed/ criado ou já existente')\n",
    "\n",
    "# Definir caminhos\n",
    "sectors_path = 'data/area_prova_barao.geojson'\n",
    "metrics_path = 'data/processed/climate_metrics.csv'\n",
    "output_dir = 'data/processed'\n",
    "\n",
    "# Verificar arquivos de entrada\n",
    "print('\\n--- Verificando arquivos de entrada ---')\n",
    "for path in [sectors_path, metrics_path]:\n",
    "    if os.path.exists(path):\n",
    "        size_mb = os.path.getsize(path) / (1024 * 1024)\n",
    "        print(f'✓ {path} ({size_mb:.1f} MB)')\n",
    "    else:\n",
    "        print(f'❌ {path} não encontrado')"
   ]
  },
  {
   "cell_type": "markdown",
   "metadata": {},
   "source": [
    "## 1. Carregamento dos Dados\n",
    "\n",
    "Carregamos a geometria dos setores e as métricas mescladas."
   ]
  },
  {
   "cell_type": "code",
   "execution_count": null,
   "metadata": {},
   "outputs": [],
   "source": [
    "try:\n",
    "    # Carregar setores censitários\n",
    "    gdf = gpd.read_file(sectors_path)\n",
    "    gdf = gdf[(gdf['SITUACAO'] == 'Urbana') & (gdf['AREA_KM2'] <= 1.0)]\n",
    "    print(f'✓ Carregados {len(gdf)} setores urbanos')\n",
    "\n",
    "    # Carregar métricas mescladas\n",
    "    metrics_df = pd.read_csv(metrics_path)\n",
    "    print(f'✓ Carregadas {len(metrics_df)} métricas de setores')\n",
    "\n",
    "    # Mesclar geometria com métricas\n",
    "    gdf = gdf.merge(metrics_df, on='CD_SETOR', how='left')\n",
    "    print(f'✓ Dados mesclados com sucesso: {len(gdf)} setores')\n",
    "except Exception as e:\n",
    "    print(f'❌ Erro ao carregar dados: {e}')"
   ]
  },
  {
   "cell_type": "markdown",
   "metadata": {},
   "source": [
    "## 2. Geração dos Mapas\n",
    "\n",
    "Criamos mapas para precipitação, temperatura e NDVI usando uma paleta de cores apropriada."
   ]
  },
  {
   "cell_type": "code",
   "execution_count": null,
   "metadata": {},
   "outputs": [],
   "source": [
    "if 'gdf' in locals():\n",
    "    # Configurar figura\n",
    "    fig, (ax1, ax2, ax3) = plt.subplots(1, 3, figsize=(15, 5), sharey=True)\n",
    "\n",
    "    # Mapa de Precipitação\n",
    "    gdf.plot(column='precip_mean_mm', ax=ax1, legend=True, cmap='Blues',\n",
    "             missing_kwds={'color': 'lightgrey'}, vmin=gdf['precip_mean_mm'].min(),\n",
    "             vmax=gdf['precip_mean_mm'].max())\n",
    "    ax1.set_title('Precipitação Média (mm)')\n",
    "    ctx.add_basemap(ax1, crs=gdf.crs.to_string(), source=ctx.providers.OpenStreetMap.Mapnik)\n",
    "\n",
    "    # Mapa de Temperatura\n",
    "    gdf.plot(column='temp_mean_C', ax=ax2, legend=True, cmap='Reds',\n",
    "             missing_kwds={'color': 'lightgrey'}, vmin=gdf['temp_mean_C'].min(),\n",
    "             vmax=gdf['temp_mean_C'].max())\n",
    "    ax2.set_title('Temperatura Média (°C)')\n",
    "    ctx.add_basemap(ax2, crs=gdf.crs.to_string(), source=ctx.providers.OpenStreetMap.Mapnik)\n",
    "\n",
    "    # Mapa de NDVI\n",
    "    gdf.plot(column='NDVI_mean', ax=ax3, legend=True, cmap='Greens',\n",
    "             missing_kwds={'color': 'lightgrey'}, vmin=gdf['NDVI_mean'].min(),\n",
    "             vmax=gdf['NDVI_mean'].max())\n",
    "    ax3.set_title('NDVI Médio')\n",
    "    ctx.add_basemap(ax3, crs=gdf.crs.to_string(), source=ctx.providers.OpenStreetMap.Mapnik)\n",
    "\n",
    "    # Ajustes finais\n",
    "    for ax in [ax1, ax2, ax3]:\n",
    "        ax.set_axis_off()\n",
    "    plt.tight_layout()\n",
    "    plt.savefig(f'{output_dir}/spatial_maps.png', dpi=300, bbox_inches='tight')\n",
    "    print(f'✓ Mapas salvos em {output_dir}/spatial_maps.png')\n",
    "else:\n",
    "    print('❌ Pulando geração de mapas devido a dados ausentes')"
   ]
  },
  {
   "cell_type": "markdown",
   "metadata": {},
   "source": [
    "## 3. Resumo da Visualização\n",
    "\n",
    "Resumimos as estatísticas dos mapas gerados."
   ]
  },
  {
   "cell_type": "code",
   "execution_count": null,
   "metadata": {},
   "outputs": [],
   "source": [
    "if 'gdf' in locals():\n",
    "    print('\\n' + '='*50)\n",
    "    print('📋 RESUMO DA VISUALIZAÇÃO')\n",
    "    print('='*50)\n",
    "    print(f'✓ Setores com dados: {len(gdf)}')\n",
    "    print(f'✓ Média Precipitação: {gdf[\"precip_mean_mm\"].mean():.2f} mm')\n",
    "    print(f'✓ Média Temperatura: {gdf[\"temp_mean_C\"].mean():.2f} °C')\n",
    "    print(f'✓ Média NDVI: {gdf[\"NDVI_mean\"].mean():.2f}')\n",
    "    print(f'✓ Setores com NaN: {len(gdf[gdf[[\"precip_mean_mm\", \"temp_mean_C\", \"NDVI_mean\"]].isna().any(axis=1)])}')\n",
    "\n",
    "    print('\\n🗂️ ARQUIVOS GERADOS:')\n",
    "    for file in glob.glob(f'{output_dir}/*spatial*.png'):\n",
    "        if os.path.exists(file):\n",
    "            print(f'  ✓ {file} (Tamanho: {os.path.getsize(file) / 1024 / 1024:.2f} MB)')"
   ]
  },
  {
   "cell_type": "markdown",
   "metadata": {},
   "source": [
    "## 4. Validação e Instruções\n",
    "\n",
    "- **Validação**:\n",
    "  - Abra o mapa gerado:\n",
    "    ```bash\n",
    "    xdg-open data/processed/spatial_maps.png\n",
    "    ```\n",
    "  - Verifique se as cores refletem os valores corretos (ex.: azul mais escuro para maior precipitação).\n",
    "  - Confirme a sobreposição com o mapa base (OpenStreetMap).\n",
    "- **Solução de Problemas**:\n",
    "  - Se houver setores em cinza (dados ausentes), verifique `climate_metrics.csv`:\n",
    "    ```python\n",
    "    import pandas as pd\n",
    "    df = pd.read_csv('data/processed/climate_metrics.csv')\n",
    "    print(df[df[['precip_mean_mm', 'temp_mean_C', 'NDVI_mean']].isna().any(axis=1)])\n",
    "    ```\n",
    "  - Ajuste a paleta de cores editando `cmap` (ex.: `'viridis'` em vez de `'Blues'`).\n",
    "- **Commit**:\n",
    "   ```bash\n",
    "   git add visualize.ipynb data/processed/spatial_maps.png\n",
    "   git commit -m \"Visualização: adicionados mapas espaciais\"\n",
    "   git push origin main\n",
    "   ```"
   ]
  }
 ],
 "metadata": {
  "kernelspec": {
   "display_name": "naia-env",
   "language": "python",
   "name": "python3"
  },
  "language_info": {
   "codemirror_mode": {
    "name": "ipython",
    "version": 3
   },
   "file_extension": ".py",
   "mimetype": "text/x-python",
   "name": "python",
   "nbconvert_exporter": "python",
   "pygments_lexer": "ipython3",
   "version": "3.12.7"
  }
 },
 "nbformat": 4,
 "nbformat_minor": 5
}