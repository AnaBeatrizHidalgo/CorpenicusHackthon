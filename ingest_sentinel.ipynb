{
 "cells": [
  {
   "cell_type": "markdown",
   "metadata": {},
   "source": [
    "# Ingestão de Dados Sentinel para o Protótipo NAIÁ\n",
    "\n",
    "Este notebook realiza a ingestão de imagens Sentinel-1 (VV/VH) e Sentinel-2 (RGB+NIR) para Barão Geraldo, Campinas (SP), no contexto do Hackathon CopernicusLAC Panamá 2025. A área de interesse é centrada na Unicamp (-47.063, -22.821), com bounding box [-47.10, -22.85, -47.03, -22.78] (~20 km²). O objetivo é obter imagens para análise de criadouros do *Aedes aegypti*.\n",
    "\n",
    "## Configuração\n",
    "- **Ambiente**: `naia-env` (Python 3.12.7).\n",
    "- **Repositório**: `/home/lorhan/git/CorpenicusHackthon/`.\n",
    "- **Período**: 2024-06-29 a 2024-07-29 (2025 não disponível).\n",
    "- **Saídas**: \n",
    "  - `data/sentinel1_unicamp.tiff` (Sentinel-1, VV/VH).\n",
    "  - `data/sentinel2_unicamp.tiff` (Sentinel-2, RGB+NIR).\n",
    "  - `data/s1_preview.png` e `data/s2_preview.png` (visualizações).\n",
    "\n",
    "## Pré-requisitos\n",
    "1. Ative o ambiente: `source naia-env/bin/activate`.\n",
    "2. Instale dependências:\n",
    "   ```bash\n",
    "   pip install sentinelhub geopandas rasterio matplotlib requests python-dotenv\n",
    "   pip freeze > requirements.txt\n",
    "   ```\n",
    "3. Configure `.env` com `CLIENT_ID` e `CLIENT_SECRET_ID` (Copernicus CDSE).\n",
    "4. Execute as células abaixo sequencialmente."
   ]
  },
  {
   "cell_type": "code",
   "execution_count": null,
   "metadata": {},
   "outputs": [],
   "source": [
    "# Importações\n",
    "import os\n",
    "from dotenv import load_dotenv\n",
    "from sentinelhub import SHConfig, SentinelHubRequest, DataCollection, BBox, CRS, MimeType\n",
    "import requests\n",
    "import glob\n",
    "import matplotlib.pyplot as plt\n",
    "import rasterio\n",
    "\n",
    "# Configurar diretório de saída\n",
    "os.makedirs('data', exist_ok=True)\n",
    "print('✓ Diretório data/ criado ou já existente')"
   ]
  },
  {
   "cell_type": "markdown",
   "metadata": {},
   "source": [
    "## 1. Carregamento das Credenciais\n",
    "\n",
    "Carregamos as credenciais do Copernicus Data Space Ecosystem (CDSE) a partir do arquivo `.env`. Certifique-se de que `CLIENT_ID` e `CLIENT_SECRET_ID` estão configurados."
   ]
  },
  {
   "cell_type": "code",
   "execution_count": null,
   "metadata": {},
   "outputs": [],
   "source": [
    "load_dotenv()\n",
    "client_id = os.getenv('CLIENT_ID')\n",
    "client_secret = os.getenv('CLIENT_SECRET_ID')\n",
    "if not client_id or not client_secret:\n",
    "    raise ValueError('❌ Credenciais CLIENT_ID ou CLIENT_SECRET_ID não encontradas no .env')\n",
    "print('✓ Credenciais carregadas do arquivo .env')\n",
    "print(f'Client ID: {client_id[:10]}...')"
   ]
  },
  {
   "cell_type": "markdown",
   "metadata": {},
   "source": [
    "## 2. Configuração do SentinelHub\n",
    "\n",
    "Configuramos o acesso ao CDSE com URLs específicas para autenticação e download."
   ]
  },
  {
   "cell_type": "code",
   "execution_count": null,
   "metadata": {},
   "outputs": [],
   "source": [
    "def setup_sentinelhub_config():\n",
    "    \"\"\"Configura e autentica no Copernicus Data Space Ecosystem.\"\"\"\n",
    "    config = SHConfig()\n",
    "    config.sh_client_id = client_id.strip()\n",
    "    config.sh_client_secret = client_secret.strip()\n",
    "    config.sh_token_url = 'https://identity.dataspace.copernicus.eu/auth/realms/CDSE/protocol/openid-connect/token'\n",
    "    config.sh_base_url = 'https://sh.dataspace.copernicus.eu'\n",
    "    return config\n",
    "\n",
    "config = setup_sentinelhub_config()\n",
    "print('✓ Configuração do SentinelHub criada')"
   ]
  },
  {
   "cell_type": "markdown",
   "metadata": {},
   "source": [
    "## 3. Teste de Autenticação\n",
    "\n",
    "Testamos a autenticação com o CDSE para garantir que as credenciais são válidas."
   ]
  },
  {
   "cell_type": "code",
   "execution_count": null,
   "metadata": {},
   "outputs": [],
   "source": [
    "def test_authentication(config):\n",
    "    \"\"\"Testa a conexão com o Copernicus CDSE.\"\"\"\n",
    "    try:\n",
    "        response = requests.post(\n",
    "            config.sh_token_url,\n",
    "            data={\n",
    "                'grant_type': 'client_credentials',\n",
    "                'client_id': config.sh_client_id,\n",
    "                'client_secret': config.sh_client_secret\n",
    "            },\n",
    "            headers={'Content-Type': 'application/x-www-form-urlencoded'}\n",
    "        )\n",
    "        response.raise_for_status()\n",
    "        print('✓ Autenticação no Copernicus CDSE bem-sucedida!')\n",
    "        return True\n",
    "    except Exception as e:\n",
    "        print(f'❌ Falha na autenticação: {e}')\n",
    "        return False\n",
    "\n",
    "auth_success = test_authentication(config)"
   ]
  },
  {
   "cell_type": "markdown",
   "metadata": {},
   "source": [
    "## 4. Definição da Área de Interesse\n",
    "\n",
    "Definimos a bounding box para Barão Geraldo, centrada na Unicamp (-47.063, -22.821)."
   ]
  },
  {
   "cell_type": "code",
   "execution_count": null,
   "metadata": {},
   "outputs": [],
   "source": [
    "unicamp_bbox = BBox(bbox=[-47.10, -22.85, -47.03, -22.78], crs=CRS.WGS84)\n",
    "print('✓ Área de interesse definida:')\n",
    "print(f'  Longitude: {unicamp_bbox.min_x}° a {unicamp_bbox.max_x}°')\n",
    "print(f'  Latitude: {unicamp_bbox.min_y}° a {unicamp_bbox.max_y}°')\n",
    "print('  Região: Barão Geraldo, Campinas (SP), centrada na Unicamp')"
   ]
  },
  {
   "cell_type": "markdown",
   "metadata": {},
   "source": [
    "## 5. Download de Sentinel-1 (VV/VH)\n",
    "\n",
    "Baixamos a imagem Sentinel-1 com polarizações VV e VH, resolução 512x512 pixels, para o período de 2024-06-29 a 2024-07-29."
   ]
  },
  {
   "cell_type": "code",
   "execution_count": null,
   "metadata": {},
   "outputs": [],
   "source": [
    "if auth_success:\n",
    "    evalscript_s1 = \"\"\"\n",
    "    //VERSION=3\n",
    "    function setup() {\n",
    "        return { input: ['VV', 'VH'], output: { bands: 2 } };\n",
    "    }\n",
    "    function evaluatePixel(sample) {\n",
    "        return [sample.VV, sample.VH];\n",
    "    }\n",
    "    \"\"\"\n",
    "    s1_request = SentinelHubRequest(\n",
    "        data_folder='data',\n",
    "        evalscript=evalscript_s1,\n",
    "        input_data=[\n",
    "            SentinelHubRequest.input_data(\n",
    "                data_collection=DataCollection.SENTINEL1_IW.define_from(\n",
    "                    name='S1IW', service_url='https://sh.dataspace.copernicus.eu'\n",
    "                ),\n",
    "                time_interval=('2024-06-29', '2024-07-29')\n",
    "            )\n",
    "        ],\n",
    "        responses=[SentinelHubRequest.output_response('default', MimeType.TIFF)],\n",
    "        bbox=unicamp_bbox,\n",
    "        size=(512, 512),\n",
    "        config=config\n",
    "    )\n",
    "    print('📡 Iniciando download da imagem Sentinel-1 (VV/VH)...')\n",
    "    try:\n",
    "        s1_request.save_data()\n",
    "        tiff_files = sorted(glob.glob('data/**/response.tiff', recursive=True), key=os.path.getmtime, reverse=True)\n",
    "        if tiff_files:\n",
    "            os.rename(tiff_files[0], 'data/sentinel1_unicamp.tiff')\n",
    "            s1_data_path = 'data/sentinel1_unicamp.tiff'\n",
    "            print(f'✓ Download concluído: {s1_data_path}')\n",
    "        else:\n",
    "            print('❌ Download realizado, mas nenhum arquivo TIFF encontrado.')\n",
    "            s1_data_path = None\n",
    "    except Exception as e:\n",
    "        print(f'❌ Erro no download Sentinel-1: {e}')\n",
    "        s1_data_path = None\n",
    "else:\n",
    "    print('❌ Pulando download Sentinel-1 devido à falha na autenticação')\n",
    "    s1_data_path = None"
   ]
  },
  {
   "cell_type": "markdown",
   "metadata": {},
   "source": [
    "## 6. Visualização de Sentinel-1\n",
    "\n",
    "Visualizamos as bandas VV e VH da imagem Sentinel-1 baixada."
   ]
  },
  {
   "cell_type": "code",
   "execution_count": null,
   "metadata": {},
   "outputs": [],
   "source": [
    "def visualize_sentinel_image(data_path, title, output_file):\n",
    "    \"\"\"Visualiza uma imagem Sentinel baixada.\"\"\"\n",
    "    if not data_path or not os.path.exists(data_path):\n",
    "        print(f'❌ Arquivo {data_path} não encontrado')\n",
    "        return\n",
    "    try:\n",
    "        with rasterio.open(data_path) as src:\n",
    "            image = src.read()  # Ler todas as bandas\n",
    "            fig, axes = plt.subplots(1, len(image), figsize=(10 * len(image), 8))\n",
    "            if len(image) == 1:\n",
    "                axes = [axes]\n",
    "            for i, band in enumerate(image):\n",
    "                axes[i].imshow(band, cmap='gray')\n",
    "                axes[i].set_title(f'{title} - Banda {'VV' if i == 0 else 'VH'}', fontsize=12)\n",
    "                axes[i].set_xlabel('Pixels (Longitude)')\n",
    "                axes[i].set_ylabel('Pixels (Latitude)')\n",
    "                plt.colorbar(axes[i].imshow(band, cmap='gray'), ax=axes[i], label='Backscatter (dB)')\n",
    "            plt.tight_layout()\n",
    "            plt.savefig(output_file, dpi=300, bbox_inches='tight')\n",
    "            plt.show()\n",
    "            print(f'✓ Visualização salva em {output_file}')\n",
    "            print(f'  Dimensões: {image.shape}')\n",
    "            print(f'  Valores mín/máx: {image.min():.2f} / {image.max():.2f}')\n",
    "    except Exception as e:\n",
    "        print(f'❌ Erro na visualização: {e}')\n",
    "\n",
    "if s1_data_path:\n",
    "    visualize_sentinel_image(s1_data_path, 'Sentinel-1 (2024-06-29 a 2024-07-29)', 'data/s1_preview.png')"
   ]
  },
  {
   "cell_type": "markdown",
   "metadata": {},
   "source": [
    "## 7. Download de Sentinel-2 (RGB+NIR)\n",
    "\n",
    "Baixamos a imagem Sentinel-2 com bandas RGB (B04, B03, B02) e NIR (B08), resolução 512x512 pixels, para o mesmo período."
   ]
  },
  {
   "cell_type": "code",
   "execution_count": null,
   "metadata": {},
   "outputs": [],
   "source": [
    "if auth_success:\n",
    "    evalscript_s2 = \"\"\"\n",
    "    //VERSION=3\n",
    "    function setup() {\n",
    "        return { input: ['B02', 'B03', 'B04', 'B08'], output: { bands: 4 } };\n",
    "    }\n",
    "    function evaluatePixel(sample) {\n",
    "        return [sample.B04, sample.B03, sample.B02, sample.B08];\n",
    "    }\n",
    "    \"\"\"\n",
    "    s2_request = SentinelHubRequest(\n",
    "        data_folder='data',\n",
    "        evalscript=evalscript_s2,\n",
    "        input_data=[\n",
    "            SentinelHubRequest.input_data(\n",
    "                data_collection=DataCollection.SENTINEL2_L2A.define_from(\n",
    "                    name='S2L2A', service_url='https://sh.dataspace.copernicus.eu'\n",
    "                ),\n",
    "                time_interval=('2024-06-29', '2024-07-29'),\n",
    "                mosaicking_order='leastCC'\n",
    "            )\n",
    "        ],\n",
    "        responses=[SentinelHubRequest.output_response('default', MimeType.TIFF)],\n",
    "        bbox=unicamp_bbox,\n",
    "        size=(512, 512),\n",
    "        config=config\n",
    "    )\n",
    "    print('📡 Iniciando download da imagem Sentinel-2 (RGB+NIR)...')\n",
    "    try:\n",
    "        s2_request.save_data()\n",
    "        tiff_files = sorted(glob.glob('data/**/response.tiff', recursive=True), key=os.path.getmtime, reverse=True)\n",
    "        if tiff_files:\n",
    "            os.rename(tiff_files[0], 'data/sentinel2_unicamp.tiff')\n",
    "            s2_data_path = 'data/sentinel2_unicamp.tiff'\n",
    "            print(f'✓ Download concluído: {s2_data_path}')\n",
    "        else:\n",
    "            print('❌ Download realizado, mas nenhum arquivo TIFF encontrado.')\n",
    "            s2_data_path = None\n",
    "    except Exception as e:\n",
    "        print(f'❌ Erro no download Sentinel-2: {e}')\n",
    "        s2_data_path = None\n",
    "else:\n",
    "    print('❌ Pulando download Sentinel-2 devido à falha na autenticação')\n",
    "    s2_data_path = None"
   ]
  },
  {
   "cell_type": "markdown",
   "metadata": {},
   "source": [
    "## 8. Visualização de Sentinel-2\n",
    "\n",
    "Visualizamos as bandas RGB e NIR da imagem Sentinel-2, com uma composição RGB verdadeira e a banda NIR separada."
   ]
  },
  {
   "cell_type": "code",
   "execution_count": null,
   "metadata": {},
   "outputs": [],
   "source": [
    "if s2_data_path:\n",
    "    try:\n",
    "        with rasterio.open(s2_data_path) as src:\n",
    "            image = src.read()  # [B04 (R), B03 (G), B02 (B), B08 (NIR)]\n",
    "            # Normalizar para visualização (escala 0-1)\n",
    "            image = image / image.max() if image.max() > 0 else image\n",
    "            # Composição RGB\n",
    "            rgb = image[[0, 1, 2]].transpose(1, 2, 0)  # [R, G, B] -> [H, W, C]\n",
    "            nir = image[3]  # Banda NIR\n",
    "            fig, axes = plt.subplots(1, 2, figsize=(20, 8))\n",
    "            axes[0].imshow(rgb)\n",
    "            axes[0].set_title('Sentinel-2 (2024-06-29 a 2024-07-29) - RGB', fontsize=12)\n",
    "            axes[0].set_xlabel('Pixels (Longitude)')\n",
    "            axes[0].set_ylabel('Pixels (Latitude)')\n",
    "            axes[1].imshow(nir, cmap='gray')\n",
    "            axes[1].set_title('Sentinel-2 - Banda NIR', fontsize=12)\n",
    "            axes[1].set_xlabel('Pixels (Longitude)')\n",
    "            axes[1].set_ylabel('Pixels (Latitude)')\n",
    "            plt.colorbar(axes[1].imshow(nir, cmap='gray'), ax=axes[1], label='Reflectância')\n",
    "            plt.tight_layout()\n",
    "            plt.savefig('data/s2_preview.png', dpi=300, bbox_inches='tight')\n",
    "            plt.show()\n",
    "            print(f'✓ Visualização salva em data/s2_preview.png')\n",
    "            print(f'  Dimensões: {image.shape}')\n",
    "            print(f'  Valores mín/máx: {image.min():.2f} / {image.max():.2f}')\n",
    "    except Exception as e:\n",
    "        print(f'❌ Erro na visualização Sentinel-2: {e}')"
   ]
  },
  {
   "cell_type": "markdown",
   "metadata": {},
   "source": [
    "## 9. Resumo da Execução\n",
    "\n",
    "Resumimos o status da autenticação, downloads e arquivos gerados."
   ]
  },
  {
   "cell_type": "code",
   "execution_count": null,
   "metadata": {},
   "outputs": [],
   "source": [
    "print('\\n' + '='*50)\n",
    "print('📋 RESUMO DA EXECUÇÃO')\n",
    "print('='*50)\n",
    "print('✓ Autenticação:', 'Bem-sucedida' if auth_success else 'Falhada')\n",
    "\n",
    "if s1_data_path and os.path.exists(s1_data_path):\n",
    "    print('✓ Download Sentinel-1: Concluído')\n",
    "    print(f'  Arquivo: {s1_data_path}')\n",
    "    print(f'  Tamanho: {os.path.getsize(s1_data_path) / 1024 / 1024:.2f} MB')\n",
    "else:\n",
    "    print('❌ Download Sentinel-1: Não realizado')\n",
    "\n",
    "if s2_data_path and os.path.exists(s2_data_path):\n",
    "    print('✓ Download Sentinel-2: Concluído')\n",
    "    print(f'  Arquivo: {s2_data_path}')\n",
    "    print(f'  Tamanho: {os.path.getsize(s2_data_path) / 1024 / 1024:.2f} MB')\n",
    "else:\n",
    "    print('❌ Download Sentinel-2: Não realizado')\n",
    "\n",
    "print('\\n🗂️ ARQUIVOS GERADOS:')\n",
    "for file in ['data/s1_preview.png', 'data/s2_preview.png', 'data/sentinel1_unicamp.tiff', 'data/sentinel2_unicamp.tiff']:\n",
    "    if os.path.exists(file):\n",
    "        print(f'  ✓ {file}')"
   ]
  },
  {
   "cell_type": "markdown",
   "metadata": {},
   "source": [
    "## 10. Próximos Passos\n",
    "\n",
    "- **Validação**: Abra `data/s1_preview.png` e `data/s2_preview.png` para confirmar que as imagens cobrem Barão Geraldo/Unicamp.\n",
    "- **Pré-processamento**: Alinhe `data/area_prova_barao.geojson` com `data/sentinel1_unicamp.tiff` e `data/sentinel2_unicamp.tiff` para recortar setores censitários.\n",
    "- **Commit**:\n",
    "   ```bash\n",
    "   git add ingest_sentinel.ipynb data/sentinel*.tiff data/s*_preview.png\n",
    "   git commit -m \"Ingestão de Sentinel-1 (VV/VH) e Sentinel-2 (RGB+NIR) para Barão Geraldo\"\n",
    "   git push origin main\n",
    "   ```\n",
    "- **Cronograma**: Avance para pré-processamento e análise inicial (Dia 1, 13:37–19:37).\n",
    "- **Dicas**:\n",
    "  - Se o download falhar, verifique a conexão com `test_authentication` ou ajuste o período (ex.: 2024-05-01 a 2024-06-01).\n",
    "  - Para Sentinel-2, o parâmetro `mosaicking_order='leastCC'` minimiza cobertura de nuvens.\n",
    "  - Considere Sentinel-3 (LST, 500m) para dados climáticos futuros."
   ]
  }
 ],
 "metadata": {
  "kernelspec": {
   "display_name": "naia-env",
   "language": "python",
   "name": "python3"
  },
  "language_info": {
   "codemirror_mode": {
    "name": "ipython",
    "version": 3
   },
   "file_extension": ".py",
   "mimetype": "text/x-python",
   "name": "python",
   "nbconvert_exporter": "python",
   "pygments_lexer": "ipython3",
   "version": "3.12.7"
  }
 },
 "nbformat": 4,
 "nbformat_minor": 5
}